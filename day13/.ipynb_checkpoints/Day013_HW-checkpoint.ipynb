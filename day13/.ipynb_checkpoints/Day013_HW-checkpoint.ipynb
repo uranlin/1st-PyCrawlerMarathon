{
 "cells": [
  {
   "cell_type": "markdown",
   "metadata": {},
   "source": [
    "# PTT 網路爬蟲實作練習\n",
    "\n",
    "\n",
    "* 能夠利用 Request + BeatifulSour 撰寫爬蟲，並存放到合適的資料結構\n"
   ]
  },
  {
   "cell_type": "markdown",
   "metadata": {},
   "source": [
    "## 作業目標\n",
    "\n",
    "根據範例 ，完成以下問題：\n",
    "\n",
    "* ① 印出最新文章的「作者」「標題」「時間」\n",
    "* ② 印出第一頁所有文章的「作者」「標題」「時間」\n"
   ]
  },
  {
   "cell_type": "markdown",
   "metadata": {},
   "source": [
    "### ① 印出最新文章的「作者」「標題」「時間」"
   ]
  },
  {
   "cell_type": "code",
   "execution_count": 2,
   "metadata": {},
   "outputs": [
    {
     "name": "stdout",
     "output_type": "stream",
     "text": [
      "[新聞] 關鍵時刻表現不佳 Embiid：必須做自己\n",
      "[討論] 獨行俠變一人球隊\n",
      "[公告] 板規v6.6\n",
      "[公告] 樂透取消及未來不再開啟樂透\n",
      "[公告] 版主上任相關事項 \n",
      "[情報] SEASON Schedule 賽程 December 19–20\n",
      "[公告]是否禁止basketball top 5文章投票開始 \n"
     ]
    }
   ],
   "source": [
    "import requests\n",
    "from bs4 import BeautifulSoup\n",
    "import pandas as pd\n",
    "\n",
    "\n",
    "url = 'https://www.ptt.cc/bbs/NBA/index.html'\n",
    "r = requests.get(url)\n",
    "\n",
    "soup = BeautifulSoup(r.text, \"html.parser\")\n",
    "\n",
    "for d in soup.find_all(class_=\"title\"):\n",
    "    print(d.text.replace('\\t', '').replace('\\n', ''))\n",
    "    try:\n",
    "        r = BeautifulSoup(requests.get('https://www.ptt.cc'+d.find('a')['href']).text, \"html5lib\")\n",
    "        print('作者: ' + r.find(class_='article-meta-value').text)\n",
    "    except:\n",
    "        continue\n"
   ]
  },
  {
   "cell_type": "markdown",
   "metadata": {},
   "source": [
    "### ② 印出第一頁所有文章的「作者」「標題」「時間」"
   ]
  },
  {
   "cell_type": "code",
   "execution_count": 27,
   "metadata": {},
   "outputs": [
    {
     "name": "stdout",
     "output_type": "stream",
     "text": [
      "日期: 12/11\n",
      "標題: \n",
      "[新聞] 關鍵時刻表現不佳 Embiid：必須做自己\n",
      "作者: iam168888888\n",
      "\n",
      "日期: 12/11\n",
      "標題: \n",
      "[討論] 獨行俠變一人球隊\n",
      "作者: dahanjian\n",
      "\n",
      "日期:  5/24\n",
      "標題: \n",
      "[公告] 板規v6.6\n",
      "作者: Vedan\n",
      "\n",
      "日期:  6/24\n",
      "標題: \n",
      "[公告] 樂透取消及未來不再開啟樂透\n",
      "作者: Vedan\n",
      "\n",
      "日期: 10/25\n",
      "標題: \n",
      "[公告] 版主上任相關事項 \n",
      "作者: qazwsx879345\n",
      "\n",
      "日期: 11/29\n",
      "標題: \n",
      "[情報] SEASON Schedule 賽程 December 19–20\n",
      "作者: JerroLi\n",
      "\n",
      "日期: 12/08\n",
      "標題: \n",
      "[公告]是否禁止basketball top 5文章投票開始 \n",
      "作者: dragon803\n",
      "\n"
     ]
    }
   ],
   "source": [
    "for d in soup.find_all(class_=\"r-ent\"):\n",
    "    \n",
    "    print(\"日期: \" + d.find(class_=\"meta\").find(class_=\"date\").text)\n",
    "    print(\"標題: \" + d.find(class_=\"title\").text,end=\"\")\n",
    "    print(\"作者: \" + d.find(class_=\"meta\").find(class_=\"author\").text,end=\"\\n\\n\")"
   ]
  },
  {
   "cell_type": "markdown",
   "metadata": {},
   "source": [
    "### ③ 試著爬爬看其他版的文章"
   ]
  },
  {
   "cell_type": "code",
   "execution_count": 28,
   "metadata": {},
   "outputs": [
    {
     "name": "stdout",
     "output_type": "stream",
     "text": [
      "日期: 12/11\n",
      "標題: \n",
      "[嘗毒] 大秦從獻仙藥開始\n",
      "作者: wizardfizban\n",
      "\n",
      "日期: 12/11\n",
      "標題: \n",
      "[討論] 問一本書書名\n",
      "作者: wolfoxy\n",
      "\n",
      "日期: 12/11\n",
      "標題: \n",
      "Re: [討論] 穿越回中國古代發展工業能不能打爆古人？\n",
      "作者: fansue\n",
      "\n",
      "日期: 12/11\n",
      "標題: \n",
      "Re: [討論] 穿越回中國古代發展工業能不能打爆古人？\n",
      "作者: owo0204\n",
      "\n",
      "日期: 12/11\n",
      "標題: \n",
      "[實況] 超神機械師\n",
      "作者: Morrislakbay\n",
      "\n",
      "日期: 12/12\n",
      "標題: \n",
      "Re: [討論] 穿越回中國古代發展工業能不能打爆古\n",
      "作者: gary76\n",
      "\n",
      "日期:  5/24\n",
      "標題: \n",
      "[公告] 玄幻小說板 - 板規 2.0\n",
      "作者: a343408065\n",
      "\n",
      "日期:  2/06\n",
      "標題: \n",
      "[公告] 2019多功能置底閒聊區\n",
      "作者: gabin2000\n",
      "\n",
      "日期:  2/11\n",
      "標題: \n",
      "Re: [閒聊] 關於置底的那個書單...\n",
      "作者: lrm549\n",
      "\n",
      "日期: 12/06\n",
      "標題: \n",
      "Re: [閒聊] PTT CFantasy板 各書實況人氣整理\n",
      "作者: z210023\n",
      "\n"
     ]
    }
   ],
   "source": [
    "import requests\n",
    "from bs4 import BeautifulSoup\n",
    "import pandas as pd\n",
    "\n",
    "\n",
    "url = 'https://www.ptt.cc/bbs/CFantasy/index.html'\n",
    "r = requests.get(url)\n",
    "\n",
    "soup = BeautifulSoup(r.text, \"html.parser\")\n",
    "\n",
    "\n",
    "for d in soup.find_all(class_=\"r-ent\"):\n",
    "    \n",
    "    print(\"日期: \" + d.find(class_=\"meta\").find(class_=\"date\").text)\n",
    "    print(\"標題: \" + d.find(class_=\"title\").text,end=\"\")\n",
    "    print(\"作者: \" + d.find(class_=\"meta\").find(class_=\"author\").text,end=\"\\n\\n\")\n"
   ]
  },
  {
   "cell_type": "code",
   "execution_count": null,
   "metadata": {},
   "outputs": [],
   "source": []
  }
 ],
 "metadata": {
  "kernelspec": {
   "display_name": "Python 3",
   "language": "python",
   "name": "python3"
  },
  "language_info": {
   "codemirror_mode": {
    "name": "ipython",
    "version": 3
   },
   "file_extension": ".py",
   "mimetype": "text/x-python",
   "name": "python",
   "nbconvert_exporter": "python",
   "pygments_lexer": "ipython3",
   "version": "3.7.5"
  }
 },
 "nbformat": 4,
 "nbformat_minor": 2
}
