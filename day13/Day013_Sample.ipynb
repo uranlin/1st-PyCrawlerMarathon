{
 "cells": [
  {
   "cell_type": "markdown",
   "metadata": {},
   "source": [
    "# PTT 網路爬蟲實作練習\n",
    "\n",
    "\n",
    "* 能夠利用 Request + BeatifulSour 撰寫爬蟲，並存放到合適的資料結構\n"
   ]
  },
  {
   "cell_type": "markdown",
   "metadata": {},
   "source": [
    "## PTT 網頁爬蟲"
   ]
  },
  {
   "cell_type": "code",
   "execution_count": 2,
   "metadata": {},
   "outputs": [
    {
     "name": "stdout",
     "output_type": "stream",
     "text": [
      "[情報] Vince Carter 生涯例行賽1500場次達成\n",
      "[Live] 尼克 @ 拓荒者\n",
      "[BOX ] Wizards 107:114 Hornets 數據\n",
      "[新聞] K湯已恢復訓練　並連續命中多記投籃\n",
      "[花邊] 回憶Kobe練球痛罵林書豪 N.楊恩：他被虐\n",
      "[討論] Paul Millsap怎麼打那麼少？\n",
      "(本文已被刪除) [JunDorisJun]\n",
      "[BOX ] Nuggets 92:97 Sixers 數據\n",
      "(本文已被刪除) [whitetiger]\n",
      "[新聞] 東契奇拿來比籃球之神? 皮朋一句話讓人啞\n",
      "[討論] 圍巾回神是不是小桑的功勞+蒂格的問題\n",
      "[BOX ] Hawks 121:135 Heat 數據\n",
      "[外絮] 火箭對Robert Covington有強烈興趣\n",
      "[討論] 凱文愛是不是有點可惜？\n",
      "[情報] 熱火Adebayo、Robinson和Nunn創得分新高\n",
      "[情報] 士官長阿爹一起大三元 熱火隊史第一對\n",
      "[討論] 熱火的落選雙槍是不是眼光超神？\n",
      "[花邊] Jimmy Butler的instagram貼文\n",
      "[BOX ] Knicks 87:115 Blazers 數據\n",
      "[公告] 板規v6.6\n",
      "[公告] 樂透取消及未來不再開啟樂透\n",
      "[公告] 版主上任相關事項 \n",
      "[情報] SEASON Schedule 賽程 December 19–20\n",
      "[公告]是否禁止basketball top 5文章投票開始 \n"
     ]
    }
   ],
   "source": [
    "import requests\n",
    "from bs4 import BeautifulSoup\n",
    "\n",
    "url = 'https://www.ptt.cc/bbs/NBA/index.html'\n",
    "r = requests.get(url)\n",
    "\n",
    "soup = BeautifulSoup(r.text, \"html.parser\")\n",
    "\n",
    "for d in soup.find_all(class_=\"title\"):\n",
    "    print(d.text.replace('\\t', '').replace('\\n', ''))\n",
    "    try:\n",
    "        r = BeautifulSoup(requests.get('https://www.ptt.cc'+d.find('a')['href']).text, \"html5lib\")\n",
    "        print('作者: ' + r.find(class_='article-meta-value').text)\n",
    "    except:\n",
    "        continue\n"
   ]
  },
  {
   "cell_type": "markdown",
   "metadata": {},
   "source": [
    "## 作業目標\n",
    "\n",
    "根據範例 ，完成以下問題：\n",
    "\n",
    "* ① 印出最新文章的「作者」「標題」「時間」\n",
    "* ② 印出第一頁所有文章的「作者」「標題」「時間」\n",
    "* ③ 試著爬爬看其他版的文章\n"
   ]
  },
  {
   "cell_type": "code",
   "execution_count": null,
   "metadata": {},
   "outputs": [],
   "source": []
  }
 ],
 "metadata": {
  "kernelspec": {
   "display_name": "Python 3",
   "language": "python",
   "name": "python3"
  },
  "language_info": {
   "codemirror_mode": {
    "name": "ipython",
    "version": 3
   },
   "file_extension": ".py",
   "mimetype": "text/x-python",
   "name": "python",
   "nbconvert_exporter": "python",
   "pygments_lexer": "ipython3",
   "version": "3.7.5"
  }
 },
 "nbformat": 4,
 "nbformat_minor": 2
}
