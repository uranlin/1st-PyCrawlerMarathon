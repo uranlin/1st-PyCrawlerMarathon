{
 "cells": [
  {
   "cell_type": "markdown",
   "metadata": {},
   "source": [
    "# 動態網頁爬蟲 - API Request\n",
    "\n",
    "* 了解 API Request 用於動態網頁爬蟲的原理\n",
    "* 能夠使用 API Request 撰寫動態網頁爬蟲\n",
    "\n",
    "\n",
    "\n",
    "\n"
   ]
  },
  {
   "cell_type": "markdown",
   "metadata": {},
   "source": [
    "## 觀察 API 請求資訊"
   ]
  },
  {
   "cell_type": "markdown",
   "metadata": {},
   "source": [
    "![](https://imgur.com/obLkbFe.jpg)"
   ]
  },
  {
   "cell_type": "code",
   "execution_count": 7,
   "metadata": {
    "scrolled": false
   },
   "outputs": [
    {
     "data": {
      "text/plain": [
       "200"
      ]
     },
     "execution_count": 7,
     "metadata": {},
     "output_type": "execute_result"
    }
   ],
   "source": [
    "import requests\n",
    "url = 'https://taqm.epa.gov.tw/taqm/tw/MonthlyAverage.aspx'\n",
    "payload = {\n",
    "    'ctl05$ddlSite': 11,\n",
    "    'ctl05$ddlYear': 2020,\n",
    "    'ctl05$btnQuery': '查詢',\n",
    "    'ScriptManager1': 'ctl05$UpdatePanel1|ctl05$btnQuery',\n",
    "    '__VIEWSTATE': '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',\n",
    "    '__EVENTVALIDATION': 'LD2+GzYGBv0ZJOD4EFEPV/1yavtH+eFvM+TuYOtfWTtkz5A6OQUkxs5MT68cNs2qizL+DxEEbwb3RPiXVGL80dS80OfZo8eoM0SBLPzWlZIDDkZeUcUdbD/uNtJ0Z9J7rssTj4sMRkEjiWGTs3VQf9sRS7LC58NXEWX1JkC00O23BjSI8YiwGQYRgpwLGRkxNIU8MdhFzJELtWYFVvSRcyPOulN945OQPX9sMXyh4PcUBIu46zAaJYky0d+mSfMhdDQrFz8H61stFxPGLyE648TrerRgVH919VrhPL7i5fHeFZxMFw8mf39zIshTZJOqvEhL7/9DaXRLt5e0uGcuGKZySHtkY1Z8z48TVpwHOg+UNGIrjIpL72txteCHZkOL3QmmlPwNoz756i4Tvd8qk77ZGau2xka7RGnjvsyXGwWIx93b+qgTTUXJKA3+OpPMOKOCCOA3sjHLDICbWKFZbMjF1v1RdseLOJ30UbgbMYjCwxklPn7sc1FtLnbp4fTRpuo/siDJlDUfeEoNtBr/Ry82FHt295SDv9b8tIxl9oj+5zZ5B+25oKF6hToh9aHE4GL0IFdzlM2LUfRpF8Dl5Y64szunfvZq7lrUOMeTpMGgrGVWvn/z34s4prVFDTYawfo10AOC+LZ58GDjL5eMuyGaSdujExzRubzf0InAYaH8SCHi0pJt4DsddkSKjRVFU9fvx8YUwbxCC+AQiqiV5QW8vGMkOGK0x8CFIIsAENS2Llcw8qP2u2q7S9QTfwgC/1gG+QgKeOdzi5gasGP21mhp3PLpXN3RExDB91nJzWAd6lrb4JqWhkb26e/LgjYVTnRcCCsbudE3UgJKxUYr5oYcXI8BReTXlci0A9lECCOABzMNNjE0PUPeVnAQuxdHU2Ezkt24tUNbCefqwStnYXF+DGQQDEfxXzV+CrgbwjK80n5HErZI6dt8KyX/L1Ugb85XOKNF77WA1vELVMape8rd/WM=',\n",
    "    '__VIEWSTATEGENERATOR':' 0C858E1A'\n",
    "\n",
    "}\n",
    "\n",
    "\n",
    "r = requests.post(url, data=payload)\n",
    "r.status_code"
   ]
  },
  {
   "cell_type": "code",
   "execution_count": 8,
   "metadata": {},
   "outputs": [
    {
     "name": "stdout",
     "output_type": "stream",
     "text": [
      "<table align=\"Center\" border=\"1\" cellpadding=\"3\" cellspacing=\"0\" class=\"TABLE_G\" id=\"ctl05_gv\" rules=\"all\" style=\"border-color:Black;border-width:1px;border-style:None;border-collapse:collapse;\">\n",
      "<tr style=\"color:Black;font-weight:normal;\">\n",
      "<th scope=\"col\">監測項目</th><th scope=\"col\">單位</th><th scope=\"col\">監測日期</th><th scope=\"col\">監測值</th><th scope=\"col\">標註</th>\n",
      "</tr><tr style=\"color:Black;\">\n",
      "<td class=\"no-alt\" rowspan=\"1\" style=\"white-space:nowrap;\" valign=\"top\">SO2</td><td class=\"no-alt\" rowspan=\"1\" valign=\"top\">ppb</td><td> </td><td> </td><td>無此測項</td>\n",
      "</tr><tr class=\"ALT\" style=\"color:Black;\">\n",
      "<td class=\"no-alt\" rowspan=\"1\" style=\"white-space:nowrap;\" valign=\"top\">CO</td><td class=\"no-alt\" rowspan=\"1\" valign=\"top\">ppm</td><td> </td><td> </td><td>無此測項</td>\n",
      "</tr><tr style=\"color:Black;\">\n",
      "<td class=\"no-alt\" rowspan=\"1\" style=\"white-space:nowrap;\" valign=\"top\">O3</td><td class=\"no-alt\" rowspan=\"1\" valign=\"top\">ppb</td><td> </td><td> </td><td>無此測項</td>\n",
      "</tr><tr class=\"ALT\" style=\"color:Black;\">\n",
      "<td class=\"no-alt\" rowspan=\"1\" style=\"white-space:nowrap;\" valign=\"top\">PM10</td><td class=\"no-alt\" rowspan=\"1\" valign=\"top\">μg/m3</td><td> </td><td> </td><td>無此測項</td>\n",
      "</tr><tr style=\"color:Black;\">\n",
      "<td class=\"no-alt\" rowspan=\"1\" style=\"white-space:nowrap;\" valign=\"top\">NOx</td><td class=\"no-alt\" rowspan=\"1\" valign=\"top\">ppb</td><td> </td><td> </td><td>無此測項</td>\n",
      "</tr><tr class=\"ALT\" style=\"color:Black;\">\n",
      "<td class=\"no-alt\" rowspan=\"1\" style=\"white-space:nowrap;\" valign=\"top\">NO</td><td class=\"no-alt\" rowspan=\"1\" valign=\"top\">ppb</td><td> </td><td> </td><td>無此測項</td>\n",
      "</tr><tr style=\"color:Black;\">\n",
      "<td class=\"no-alt\" rowspan=\"1\" style=\"white-space:nowrap;\" valign=\"top\">NO2</td><td class=\"no-alt\" rowspan=\"1\" valign=\"top\">ppb</td><td> </td><td> </td><td>無此測項</td>\n",
      "</tr><tr class=\"ALT\" style=\"color:Black;\">\n",
      "<td class=\"no-alt\" rowspan=\"1\" style=\"white-space:nowrap;\" valign=\"top\">THC</td><td class=\"no-alt\" rowspan=\"1\" valign=\"top\">ppm</td><td> </td><td> </td><td>無此測項</td>\n",
      "</tr><tr style=\"color:Black;\">\n",
      "<td class=\"no-alt\" rowspan=\"1\" style=\"white-space:nowrap;\" valign=\"top\">NMHC</td><td class=\"no-alt\" rowspan=\"1\" valign=\"top\">ppm</td><td> </td><td> </td><td>無此測項</td>\n",
      "</tr><tr class=\"ALT\" style=\"color:Black;\">\n",
      "<td style=\"white-space:nowrap;\">CH4</td><td>ppm</td><td> </td><td> </td><td>無此測項</td>\n",
      "</tr>\n",
      "</table>\n"
     ]
    }
   ],
   "source": [
    "from bs4 import BeautifulSoup\n",
    "\n",
    "soup = BeautifulSoup(r.text, 'html.parser')\n",
    "table = soup.find('table', class_='TABLE_G')\n",
    "print(table)"
   ]
  },
  {
   "cell_type": "markdown",
   "metadata": {},
   "source": [
    "## 作業目標\n",
    "\n",
    "\n",
    "* 根據範例使用 API 取出 高雄市小港區 2019 年 空氣品質 資料，並用一個適合的資料結構儲存\n",
    "* Hint: 將所有資料存在一個變數當中\n"
   ]
  },
  {
   "cell_type": "code",
   "execution_count": null,
   "metadata": {},
   "outputs": [],
   "source": []
  }
 ],
 "metadata": {
  "kernelspec": {
   "display_name": "Python 3",
   "language": "python",
   "name": "python3"
  },
  "language_info": {
   "codemirror_mode": {
    "name": "ipython",
    "version": 3
   },
   "file_extension": ".py",
   "mimetype": "text/x-python",
   "name": "python",
   "nbconvert_exporter": "python",
   "pygments_lexer": "ipython3",
   "version": "3.7.5"
  }
 },
 "nbformat": 4,
 "nbformat_minor": 2
}
