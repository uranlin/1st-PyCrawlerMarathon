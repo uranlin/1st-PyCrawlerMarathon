{
 "cells": [
  {
   "cell_type": "markdown",
   "metadata": {},
   "source": [
    "# API 資料串接 - 以 知乎 API 實作範例\n",
    "\n",
    "\n",
    "\n",
    "* 了解知乎 API 使用方式與回傳內容\n",
    "* 撰寫程式存取 API 且添加標頭\n",
    "\n",
    "\n"
   ]
  },
  {
   "cell_type": "markdown",
   "metadata": {},
   "source": [
    "## 下載檔案"
   ]
  },
  {
   "cell_type": "code",
   "execution_count": 2,
   "metadata": {},
   "outputs": [
    {
     "data": {
      "text/plain": [
       "'<html>\\r\\n<head><title>400 Bad Request</title></head>\\r\\n<body bgcolor=\"white\">\\r\\n<center><h1>400 Bad Request</h1></center>\\r\\n<hr><center>openresty</center>\\r\\n</body>\\r\\n</html>\\r\\n'"
      ]
     },
     "execution_count": 2,
     "metadata": {},
     "output_type": "execute_result"
    }
   ],
   "source": [
    "import requests\n",
    "r = requests.get('https://www.zhihu.com/api/v4/questions/55493026/answers')\n",
    "response = r.text\n",
    "\n",
    "response"
   ]
  },
  {
   "cell_type": "code",
   "execution_count": 3,
   "metadata": {},
   "outputs": [
    {
     "data": {
      "text/plain": [
       "'{\"data\":[{\"id\":683070334,\"type\":\"answer\",\"answer_type\":\"normal\",\"question\":{\"type\":\"question\",\"id\":55493026,\"title\":\"你们都是怎么学 Python 的？\",\"question_type\":\"normal\",\"created\":1486390229,\"updated_time\":1543075931,\"url\":\"https://www.zhihu.com/api/v4/questions/55493026\",\"relationship\":{}},\"author\":{\"id\":\"36f69162230003d316d0b8a6d8da20ba\",\"url_token\":\"liang-zi-wei-48\",\"name\":\"量子位\",\"avatar_url\":\"https://pic4.zhimg.com/v2-ca6e7ffc10a0d10edbae635cee82d007_is.jpg\",\"avatar_url_template\":\"https://pic4.zhimg.com/v2-ca6e7ffc10a0d10edbae635cee82d007_{size}.jpg\",\"is_org\":true,\"type\":\"people\",\"url\":\"https://www.zhihu.com/api/v4/people/36f69162230003d316d0b8a6d8da20ba\",\"user_type\":\"organization\",\"headline\":\"有趣的前沿科技→_→ 公众号：QbitAI\",\"badge\":[{\"type\":\"identity\",\"description\":\"已认证的官方帐号\",\"topics\":[]}],\"gender\":-1,\"is_advertiser\":false,\"is_privacy\":false},\"url\":\"https://www.zhihu.com/api/v4/answers/683070334\",\"is_collapsed\":false,\"created_time\":1557824412,\"updated_time\":1557824412,\"extras\":\"\",\"is_copyable\":true,\"relationship\":{\"upvoted_followees\":[]}},{\"id\":163642949,\"type\":\"answer\",\"answer_type\":\"normal\",\"question\":{\"type\":\"question\",\"id\":55493026,\"title\":\"你们都是怎么学 Python 的？\",\"question_type\":\"normal\",\"created\":1486390229,\"updated_time\":1543075931,\"url\":\"https://www.zhihu.com/api/v4/questions/55493026\",\"relationship\":{}},\"author\":{\"id\":\"788f207a6bf8f66c5bad79bd0f011065\",\"url_token\":\"simonlearn\",\"name\":\"赛门喵Simon\",\"avatar_url\":\"https://pic2.zhimg.com/v2-03afe381dbea789c0f918d6aac15556c_is.jpg\",\"avatar_url_template\":\"https://pic2.zhimg.com/v2-03afe381dbea789c0f918d6aac15556c_{size}.jpg\",\"is_org\":false,\"type\":\"people\",\"url\":\"https://www.zhihu.com/api/v4/people/788f207a6bf8f66c5bad79bd0f011065\",\"user_type\":\"people\",\"headline\":\"学英语、背单词，请关注关注公众号「赛门喵Simon」。\",\"badge\":[{\"type\":\"identity\",\"description\":\"新加坡南洋理工大学 电气工程博士\",\"topics\":[]}],\"gender\":1,\"is_advertiser\":false,\"is_privacy\":false},\"url\":\"https://www.zhihu.com/api/v4/answers/163642949\",\"is_collapsed\":false,\"created_time\":1493707703,\"updated_time\":1493708357,\"extras\":\"\",\"is_copyable\":false,\"relationship\":{\"upvoted_followees\":[]}},{\"id\":637938925,\"type\":\"answer\",\"answer_type\":\"normal\",\"question\":{\"type\":\"question\",\"id\":55493026,\"title\":\"你们都是怎么学 Python 的？\",\"question_type\":\"normal\",\"created\":1486390229,\"updated_time\":1543075931,\"url\":\"https://www.zhihu.com/api/v4/questions/55493026\",\"relationship\":{}},\"author\":{\"id\":\"e8c4768eaa41e3749f7e8bc5ac6aa74b\",\"url_token\":\"Lanyuneet\",\"name\":\"Slumbers\",\"avatar_url\":\"https://pic4.zhimg.com/v2-314544f90f2a16f9ed161dc6ab6d00ed_is.jpg\",\"avatar_url_template\":\"https://pic4.zhimg.com/v2-314544f90f2a16f9ed161dc6ab6d00ed_{size}.jpg\",\"is_org\":false,\"type\":\"people\",\"url\":\"https://www.zhihu.com/api/v4/people/e8c4768eaa41e3749f7e8bc5ac6aa74b\",\"user_type\":\"people\",\"headline\":\"视频理解\",\"badge\":[],\"gender\":0,\"is_advertiser\":false,\"is_privacy\":false},\"url\":\"https://www.zhihu.com/api/v4/answers/637938925\",\"is_collapsed\":false,\"created_time\":1554085028,\"updated_time\":1558451618,\"extras\":\"\",\"is_copyable\":true,\"relationship\":{\"upvoted_followees\":[]}},{\"id\":163537026,\"type\":\"answer\",\"answer_type\":\"normal\",\"question\":{\"type\":\"question\",\"id\":55493026,\"title\":\"你们都是怎么学 Python 的？\",\"question_type\":\"normal\",\"created\":1486390229,\"updated_time\":1543075931,\"url\":\"https://www.zhihu.com/api/v4/questions/55493026\",\"relationship\":{}},\"author\":{\"id\":\"eaf435b228ce0b038a4afe8203f59b49\",\"url_token\":\"sgai\",\"name\":\"路人甲\",\"avatar_url\":\"https://pic3.zhimg.com/958a18f3216805bed269d158fb83325a_is.jpg\",\"avatar_url_template\":\"https://pic3.zhimg.com/958a18f3216805bed269d158fb83325a_{size}.jpg\",\"is_org\":false,\"type\":\"people\",\"url\":\"https://www.zhihu.com/api/v4/people/eaf435b228ce0b038a4afe8203f59b49\",\"user_type\":\"people\",\"headline\":\"微信公众号：路人甲TM，微信：904727147\",\"badge\":[],\"gender\":1,\"is_advertiser\":false,\"is_privacy\":false},\"url\":\"https://www.zhihu.com/api/v4/answers/163537026\",\"is_collapsed\":false,\"created_time\":1493693113,\"updated_time\":1555137867,\"extras\":\"\",\"is_copyable\":true,\"relationship\":{\"upvoted_followees\":[]}},{\"id\":157406075,\"type\":\"answer\",\"answer_type\":\"normal\",\"question\":{\"type\":\"question\",\"id\":55493026,\"title\":\"你们都是怎么学 Python 的？\",\"question_type\":\"normal\",\"created\":1486390229,\"updated_time\":1543075931,\"url\":\"https://www.zhihu.com/api/v4/questions/55493026\",\"relationship\":{}},\"author\":{\"id\":\"b0dc1d4f8ba748bd32148d2cd052e922\",\"url_token\":\"chantisnake\",\"name\":\"hhhhhhhhh\",\"avatar_url\":\"https://pic1.zhimg.com/v2-8061d0d00b25f9316626a9d07f6fe2ff_is.jpg\",\"avatar_url_template\":\"https://pic1.zhimg.com/v2-8061d0d00b25f9316626a9d07f6fe2ff_{size}.jpg\",\"is_org\":false,\"type\":\"people\",\"url\":\"https://www.zhihu.com/api/v4/people/b0dc1d4f8ba748bd32148d2cd052e922\",\"user_type\":\"people\",\"headline\":\"玩完了就跑\",\"badge\":[],\"gender\":1,\"is_advertiser\":false,\"is_privacy\":false},\"url\":\"https://www.zhihu.com/api/v4/answers/157406075\",\"is_collapsed\":false,\"created_time\":1492265813,\"updated_time\":1492405563,\"extras\":\"\",\"is_copyable\":true,\"relationship\":{\"upvoted_followees\":[]}}],\"paging\":{\"is_end\":false,\"is_start\":true,\"next\":\"https://www.zhihu.com/api/v4/questions/55493026/answers?limit=5\\\\u0026offset=5\",\"previous\":\"https://www.zhihu.com/api/v4/questions/55493026/answers?limit=5\\\\u0026offset=0\",\"totals\":339}}\\n'"
      ]
     },
     "execution_count": 3,
     "metadata": {},
     "output_type": "execute_result"
    }
   ],
   "source": [
    "import requests\n",
    "headers = {'user-agent': 'my-app/0.0.1'}\n",
    "r = requests.get('https://www.zhihu.com/api/v4/questions/55493026/answers',headers=headers)\n",
    "response = r.text\n",
    "\n",
    "response"
   ]
  },
  {
   "cell_type": "code",
   "execution_count": 5,
   "metadata": {},
   "outputs": [
    {
     "name": "stdout",
     "output_type": "stream",
     "text": [
      "{'id': 683070334, 'type': 'answer', 'answer_type': 'normal', 'question': {'type': 'question', 'id': 55493026, 'title': '你们都是怎么学 Python 的？', 'question_type': 'normal', 'created': 1486390229, 'updated_time': 1543075931, 'url': 'https://www.zhihu.com/api/v4/questions/55493026', 'relationship': {}}, 'author': {'id': '36f69162230003d316d0b8a6d8da20ba', 'url_token': 'liang-zi-wei-48', 'name': '量子位', 'avatar_url': 'https://pic4.zhimg.com/v2-ca6e7ffc10a0d10edbae635cee82d007_is.jpg', 'avatar_url_template': 'https://pic4.zhimg.com/v2-ca6e7ffc10a0d10edbae635cee82d007_{size}.jpg', 'is_org': True, 'type': 'people', 'url': 'https://www.zhihu.com/api/v4/people/36f69162230003d316d0b8a6d8da20ba', 'user_type': 'organization', 'headline': '有趣的前沿科技→_→ 公众号：QbitAI', 'badge': [{'type': 'identity', 'description': '已认证的官方帐号', 'topics': []}], 'gender': -1, 'is_advertiser': False, 'is_privacy': False}, 'url': 'https://www.zhihu.com/api/v4/answers/683070334', 'is_collapsed': False, 'created_time': 1557824412, 'updated_time': 1557824412, 'extras': '', 'is_copyable': True, 'relationship': {'upvoted_followees': []}}\n",
      "{'id': 163642949, 'type': 'answer', 'answer_type': 'normal', 'question': {'type': 'question', 'id': 55493026, 'title': '你们都是怎么学 Python 的？', 'question_type': 'normal', 'created': 1486390229, 'updated_time': 1543075931, 'url': 'https://www.zhihu.com/api/v4/questions/55493026', 'relationship': {}}, 'author': {'id': '788f207a6bf8f66c5bad79bd0f011065', 'url_token': 'simonlearn', 'name': '赛门喵Simon', 'avatar_url': 'https://pic2.zhimg.com/v2-03afe381dbea789c0f918d6aac15556c_is.jpg', 'avatar_url_template': 'https://pic2.zhimg.com/v2-03afe381dbea789c0f918d6aac15556c_{size}.jpg', 'is_org': False, 'type': 'people', 'url': 'https://www.zhihu.com/api/v4/people/788f207a6bf8f66c5bad79bd0f011065', 'user_type': 'people', 'headline': '学英语、背单词，请关注关注公众号「赛门喵Simon」。', 'badge': [{'type': 'identity', 'description': '新加坡南洋理工大学 电气工程博士', 'topics': []}], 'gender': 1, 'is_advertiser': False, 'is_privacy': False}, 'url': 'https://www.zhihu.com/api/v4/answers/163642949', 'is_collapsed': False, 'created_time': 1493707703, 'updated_time': 1493708357, 'extras': '', 'is_copyable': False, 'relationship': {'upvoted_followees': []}}\n",
      "{'id': 637938925, 'type': 'answer', 'answer_type': 'normal', 'question': {'type': 'question', 'id': 55493026, 'title': '你们都是怎么学 Python 的？', 'question_type': 'normal', 'created': 1486390229, 'updated_time': 1543075931, 'url': 'https://www.zhihu.com/api/v4/questions/55493026', 'relationship': {}}, 'author': {'id': 'e8c4768eaa41e3749f7e8bc5ac6aa74b', 'url_token': 'Lanyuneet', 'name': 'Slumbers', 'avatar_url': 'https://pic4.zhimg.com/v2-314544f90f2a16f9ed161dc6ab6d00ed_is.jpg', 'avatar_url_template': 'https://pic4.zhimg.com/v2-314544f90f2a16f9ed161dc6ab6d00ed_{size}.jpg', 'is_org': False, 'type': 'people', 'url': 'https://www.zhihu.com/api/v4/people/e8c4768eaa41e3749f7e8bc5ac6aa74b', 'user_type': 'people', 'headline': '视频理解', 'badge': [], 'gender': 0, 'is_advertiser': False, 'is_privacy': False}, 'url': 'https://www.zhihu.com/api/v4/answers/637938925', 'is_collapsed': False, 'created_time': 1554085028, 'updated_time': 1558451618, 'extras': '', 'is_copyable': True, 'relationship': {'upvoted_followees': []}}\n",
      "{'id': 163537026, 'type': 'answer', 'answer_type': 'normal', 'question': {'type': 'question', 'id': 55493026, 'title': '你们都是怎么学 Python 的？', 'question_type': 'normal', 'created': 1486390229, 'updated_time': 1543075931, 'url': 'https://www.zhihu.com/api/v4/questions/55493026', 'relationship': {}}, 'author': {'id': 'eaf435b228ce0b038a4afe8203f59b49', 'url_token': 'sgai', 'name': '路人甲', 'avatar_url': 'https://pic3.zhimg.com/958a18f3216805bed269d158fb83325a_is.jpg', 'avatar_url_template': 'https://pic3.zhimg.com/958a18f3216805bed269d158fb83325a_{size}.jpg', 'is_org': False, 'type': 'people', 'url': 'https://www.zhihu.com/api/v4/people/eaf435b228ce0b038a4afe8203f59b49', 'user_type': 'people', 'headline': '微信公众号：路人甲TM，微信：904727147', 'badge': [], 'gender': 1, 'is_advertiser': False, 'is_privacy': False}, 'url': 'https://www.zhihu.com/api/v4/answers/163537026', 'is_collapsed': False, 'created_time': 1493693113, 'updated_time': 1555137867, 'extras': '', 'is_copyable': True, 'relationship': {'upvoted_followees': []}}\n",
      "{'id': 157406075, 'type': 'answer', 'answer_type': 'normal', 'question': {'type': 'question', 'id': 55493026, 'title': '你们都是怎么学 Python 的？', 'question_type': 'normal', 'created': 1486390229, 'updated_time': 1543075931, 'url': 'https://www.zhihu.com/api/v4/questions/55493026', 'relationship': {}}, 'author': {'id': 'b0dc1d4f8ba748bd32148d2cd052e922', 'url_token': 'chantisnake', 'name': 'hhhhhhhhh', 'avatar_url': 'https://pic1.zhimg.com/v2-8061d0d00b25f9316626a9d07f6fe2ff_is.jpg', 'avatar_url_template': 'https://pic1.zhimg.com/v2-8061d0d00b25f9316626a9d07f6fe2ff_{size}.jpg', 'is_org': False, 'type': 'people', 'url': 'https://www.zhihu.com/api/v4/people/b0dc1d4f8ba748bd32148d2cd052e922', 'user_type': 'people', 'headline': '玩完了就跑', 'badge': [], 'gender': 1, 'is_advertiser': False, 'is_privacy': False}, 'url': 'https://www.zhihu.com/api/v4/answers/157406075', 'is_collapsed': False, 'created_time': 1492265813, 'updated_time': 1492405563, 'extras': '', 'is_copyable': True, 'relationship': {'upvoted_followees': []}}\n"
     ]
    }
   ],
   "source": [
    "import json\n",
    "data = json.loads(response)\n",
    "\n",
    "for d in data['data']:\n",
    "    print(d)\n",
    "\n"
   ]
  },
  {
   "cell_type": "markdown",
   "metadata": {},
   "source": [
    "## 作業目標\n",
    "\n",
    "* 根據範例提供的 API ，完成以下問題：\n",
    "\n",
    "    1. 取出知乎問題發問時間\n",
    "    2. 取出第一筆與最後一筆回答的時間\n",
    "\n",
    "\n",
    "\n"
   ]
  },
  {
   "cell_type": "code",
   "execution_count": null,
   "metadata": {},
   "outputs": [],
   "source": []
  }
 ],
 "metadata": {
  "kernelspec": {
   "display_name": "Python 3",
   "language": "python",
   "name": "python3"
  },
  "language_info": {
   "codemirror_mode": {
    "name": "ipython",
    "version": 3
   },
   "file_extension": ".py",
   "mimetype": "text/x-python",
   "name": "python",
   "nbconvert_exporter": "python",
   "pygments_lexer": "ipython3",
   "version": "3.7.1"
  }
 },
 "nbformat": 4,
 "nbformat_minor": 2
}
