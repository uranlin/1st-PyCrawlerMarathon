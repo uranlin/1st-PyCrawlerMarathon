{
 "cells": [
  {
   "cell_type": "markdown",
   "metadata": {},
   "source": [
    "# API 資料串接 - 以 Dcard API 實作範例\n",
    "\n",
    "\n",
    "* 了解 Dcard API 使用方式與回傳內容\n",
    "* 撰寫程式存取 API 且解析 JSON 格式資料\n",
    "\n",
    "\n",
    "\n"
   ]
  },
  {
   "cell_type": "markdown",
   "metadata": {},
   "source": [
    "## 下載檔案"
   ]
  },
  {
   "cell_type": "code",
   "execution_count": 4,
   "metadata": {},
   "outputs": [
    {
     "data": {
      "text/plain": [
       "'<html>\\r\\n<head><title>400 Bad Request</title></head>\\r\\n<body bgcolor=\"white\">\\r\\n<center><h1>400 Bad Request</h1></center>\\r\\n<hr><center>openresty</center>\\r\\n</body>\\r\\n</html>\\r\\n'"
      ]
     },
     "execution_count": 4,
     "metadata": {},
     "output_type": "execute_result"
    }
   ],
   "source": [
    "import requests\n",
    "r = requests.get('https://www.zhihu.com/api/v4/questions/55493026/answers')\n",
    "response = r.text\n",
    "\n",
    "response"
   ]
  },
  {
   "cell_type": "code",
   "execution_count": 3,
   "metadata": {},
   "outputs": [
    {
     "name": "stdout",
     "output_type": "stream",
     "text": [
      "<請先點我> 工作板＆實習、打工職缺刊登說明\n",
      "#分享  找工作經歷跟經驗（文超長  我已經盡量寫得不無聊了）\n",
      "#分享 台灣高鐵服勤員面試\n",
      "謝謝，但我們想找有工作經驗的人。\n",
      "人是為了什麼而工作\n",
      "設計新鮮人面試常問問題\n",
      "我是護理師不是清潔人員\n",
      "分享個人心得，多益補習班課程內容、費用比較和選擇\n",
      "上銀科技 業助\n",
      "設計實習面試\n",
      "身體因素造成工作很挫敗\n",
      "護理新人焦慮😭\n",
      "工讀做四天，想離職...\n",
      "中小型會計師事務所面試分享\n",
      "#問 關於空服員身高\n",
      "#請益 #心得 中鋼、台塑\n",
      "20分鐘的學經歷相關介紹\n",
      "#問 Excel 列印字體很小\n",
      "這樣的面試會錄取嗎？\n",
      "免洗筷老師\n",
      "UNIQLO視訊面試通知&NET面試\n",
      "公部門暑期工讀  請假的問題\n",
      "請教玉山人\n",
      "面試錄取率(暑期打工)\n",
      "台中/吃茶三千/專業萃茶師/廈門儲備幹部/海外實習督導\n",
      "應屆畢業生\n",
      "[求助] 該北飄嗎?  錄取的工作選擇\n",
      "會錄取嗎？不一定。\n",
      "offer請益\n",
      "上銀科技面試\n"
     ]
    }
   ],
   "source": [
    "import json\n",
    "data = json.loads(response)\n",
    "\n",
    "for d in data:\n",
    "    print(d['title'])\n"
   ]
  },
  {
   "cell_type": "markdown",
   "metadata": {},
   "source": [
    "## 作業目標\n",
    "\n",
    "* 請利用 API: https://www.dcard.tw/_api/forums/pet/posts?popular=true 回答下列問題：\n",
    "\n",
    "    1. 這個 API 一次會回傳幾筆資料？每一筆資料包含哪些欄位？\n",
    "    2. 取出每一筆資料的「標題」、「貼文時間」、「留言人數」、「按讚人數」\n",
    "    3. 計算熱門/非熱門文章的「平均留言人數」與「平均按讚人數」\n",
    "\n",
    "\n",
    "\n"
   ]
  },
  {
   "cell_type": "code",
   "execution_count": null,
   "metadata": {},
   "outputs": [],
   "source": []
  }
 ],
 "metadata": {
  "kernelspec": {
   "display_name": "Python 3",
   "language": "python",
   "name": "python3"
  },
  "language_info": {
   "codemirror_mode": {
    "name": "ipython",
    "version": 3
   },
   "file_extension": ".py",
   "mimetype": "text/x-python",
   "name": "python",
   "nbconvert_exporter": "python",
   "pygments_lexer": "ipython3",
   "version": "3.6.5"
  }
 },
 "nbformat": 4,
 "nbformat_minor": 2
}
